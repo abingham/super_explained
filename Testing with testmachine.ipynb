{
 "metadata": {
  "name": ""
 },
 "nbformat": 3,
 "nbformat_minor": 0,
 "worksheets": [
  {
   "cells": [
    {
     "cell_type": "code",
     "collapsed": false,
     "input": [
      "class SimpleList:\n",
      "    def __init__(self, data=None):\n",
      "        if data is None:\n",
      "            data = []\n",
      "            \n",
      "        self.data = list(data)\n",
      "            \n",
      "    def add(self, x):\n",
      "        self.data.append(x)\n",
      "        \n",
      "    def __getitem__(self, idx):\n",
      "        return self.data[idx]\n",
      "    \n",
      "    def __len__(self):\n",
      "        return len(self.data)\n",
      "    \n",
      "    def sort(self):\n",
      "        self.data.sort()"
     ],
     "language": "python",
     "metadata": {},
     "outputs": [],
     "prompt_number": 5
    },
    {
     "cell_type": "code",
     "collapsed": false,
     "input": [
      "class SortedList(SimpleList):\n",
      "    def __init__(self, data=None):\n",
      "        super().__init__(data)\n",
      "        self.sort()\n",
      "        \n",
      "    def add(self, x):\n",
      "        super().add(x)\n",
      "        self.sort()"
     ],
     "language": "python",
     "metadata": {},
     "outputs": [],
     "prompt_number": 6
    },
    {
     "cell_type": "code",
     "collapsed": false,
     "input": [
      "class IntList(SimpleList):\n",
      "    @staticmethod\n",
      "    def _validate(x):\n",
      "        if not isinstance(x, int):\n",
      "            raise TypeError('{} is not an instance of int.'.format(x))\n",
      "            \n",
      "    def __init__(self, data=None):\n",
      "        if data is not None:\n",
      "            # Create list here to avoid emptying a one-time iterable\n",
      "            data = list(data)\n",
      "            \n",
      "            for x in data:\n",
      "                IntList._validate(x)\n",
      "                \n",
      "        super().__init__(data)\n",
      "                \n",
      "    def add(self, x):\n",
      "        IntList._validate(x)\n",
      "        super().add(x)"
     ],
     "language": "python",
     "metadata": {},
     "outputs": []
    },
    {
     "cell_type": "code",
     "collapsed": false,
     "input": [
      "class SortedIntList(SortedList, IntList):\n",
      "    pass"
     ],
     "language": "python",
     "metadata": {},
     "outputs": []
    },
    {
     "cell_type": "markdown",
     "metadata": {},
     "source": [
      "    Now we use `testmachine` to ensure that `SortedList` behaves as expected."
     ]
    },
    {
     "cell_type": "code",
     "collapsed": false,
     "input": [
      "import random\n",
      "import string\n",
      "from testmachine import TestMachine\n",
      "from testmachine.common import (basic_operations,\n",
      "                                check,\n",
      "                                generate,\n",
      "                                lists,\n",
      "                                operation)\n",
      "\n",
      "\n",
      "def add_to_list(l, x):\n",
      "    l = SortedList(l)\n",
      "    l.add(x)\n",
      "    return l\n",
      "\n",
      "\n",
      "def random_string():\n",
      "    return ''.join(random.sample(\n",
      "        string.ascii_letters, \n",
      "        random.randint(1, len(string.ascii_letters))))\n",
      "\n",
      "\n",
      "machine = TestMachine()\n",
      "machine.add(\n",
      "    basic_operations(\"sorted_lists\"),\n",
      "    \n",
      "    # We need to be able to create random strings.\n",
      "    generate(lambda _: random_string(),  target=\"strings\"),\n",
      "    \n",
      "    # And lists of random strings.\n",
      "    lists(source=\"strings\", target=\"strlists\"),\n",
      "    \n",
      "    # And empty SortedLists\n",
      "    generate(lambda _: SortedList(), \"sorted_lists\"),\n",
      "    \n",
      "    # We construct SortedLists from lists of strings.\n",
      "    operation(\n",
      "        function=lambda d: SortedList(d),\n",
      "        argspec=('strlists',),\n",
      "        target='sorted_lists',\n",
      "        pattern='SortedList({0})'),\n",
      "\n",
      "    # And we add random strings to sorted lists\n",
      "    operation(\n",
      "        argspec=(\"sorted_lists\", \"strings\"),\n",
      "        target=\"sorted_lists\",\n",
      "        function=add_to_list,\n",
      "        pattern='{0}.add({1})'),\n",
      "    \n",
      "    # Always checking that SortedLists stay sorted.\n",
      "    check(\n",
      "        test=lambda l: list(l) == sorted(list(l)),\n",
      "        argspec=(\"sorted_lists\",),\n",
      "        pattern=\"assert {0} is sorted\")\n",
      ")\n",
      "\n",
      "print('Testing SortedList')\n",
      "machine.run()"
     ],
     "language": "python",
     "metadata": {},
     "outputs": [
      {
       "output_type": "stream",
       "stream": "stdout",
       "text": [
        "Testing SortedList\n",
        "Unable to find a failing program of length <= 200 after 500 iterations"
       ]
      },
      {
       "output_type": "stream",
       "stream": "stdout",
       "text": [
        "\n"
       ]
      }
     ],
     "prompt_number": 19
    },
    {
     "cell_type": "code",
     "collapsed": false,
     "input": [],
     "language": "python",
     "metadata": {},
     "outputs": []
    }
   ],
   "metadata": {}
  }
 ]
}