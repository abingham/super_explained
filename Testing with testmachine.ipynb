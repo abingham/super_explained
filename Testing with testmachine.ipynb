{
 "metadata": {
  "name": ""
 },
 "nbformat": 3,
 "nbformat_minor": 0,
 "worksheets": [
  {
   "cells": [
    {
     "cell_type": "code",
     "collapsed": false,
     "input": [
      "class SimpleList:\n",
      "    def __init__(self, data=None):\n",
      "        if data is None:\n",
      "            data = []\n",
      "            \n",
      "        self.data = list(data)\n",
      "            \n",
      "    def add(self, x):\n",
      "        self.data.append(x)\n",
      "        \n",
      "    def __getitem__(self, idx):\n",
      "        return self.data[idx]\n",
      "    \n",
      "    def __len__(self):\n",
      "        return len(self.data)\n",
      "    \n",
      "    def sort(self):\n",
      "        self.data.sort()"
     ],
     "language": "python",
     "metadata": {},
     "outputs": [],
     "prompt_number": 5
    },
    {
     "cell_type": "code",
     "collapsed": false,
     "input": [
      "class SortedList(SimpleList):\n",
      "    def __init__(self, data=None):\n",
      "        super().__init__(data)\n",
      "        self.sort()\n",
      "        \n",
      "    def add(self, x):\n",
      "        super().add(x)\n",
      "        self.sort()"
     ],
     "language": "python",
     "metadata": {},
     "outputs": [],
     "prompt_number": 6
    },
    {
     "cell_type": "code",
     "collapsed": false,
     "input": [
      "class IntList(SimpleList):\n",
      "    @staticmethod\n",
      "    def _validate(x):\n",
      "        if not isinstance(x, int):\n",
      "            raise TypeError('{} is not an instance of int.'.format(x))\n",
      "            \n",
      "    def __init__(self, data=None):\n",
      "        if data is not None:\n",
      "            # Create list here to avoid emptying a one-time iterable\n",
      "            data = list(data)\n",
      "            \n",
      "            for x in data:\n",
      "                IntList._validate(x)\n",
      "                \n",
      "        super().__init__(data)\n",
      "                \n",
      "    def add(self, x):\n",
      "        IntList._validate(x)\n",
      "        super().add(x)"
     ],
     "language": "python",
     "metadata": {},
     "outputs": [],
     "prompt_number": 24
    },
    {
     "cell_type": "code",
     "collapsed": false,
     "input": [
      "class SortedIntList(SortedList, IntList):\n",
      "    pass"
     ],
     "language": "python",
     "metadata": {},
     "outputs": []
    },
    {
     "cell_type": "markdown",
     "metadata": {},
     "source": [
      "    Now we use `testmachine` to ensure that `SortedList` behaves as expected."
     ]
    },
    {
     "cell_type": "code",
     "collapsed": false,
     "input": [
      "import random\n",
      "import string\n",
      "from testmachine import TestMachine\n",
      "from testmachine.common import (basic_operations,\n",
      "                                check,\n",
      "                                generate,\n",
      "                                lists,\n",
      "                                operation)\n",
      "\n",
      "\n",
      "def add_to_list(l, x):\n",
      "    l = SortedList(l)\n",
      "    l.add(x)\n",
      "    return l\n",
      "\n",
      "\n",
      "def random_string():\n",
      "    return ''.join(random.sample(\n",
      "        string.ascii_letters, \n",
      "        random.randint(1, len(string.ascii_letters))))\n",
      "\n",
      "\n",
      "machine = TestMachine()\n",
      "machine.add(\n",
      "    basic_operations(\"sorted_lists\"),\n",
      "    \n",
      "    # We need to be able to create random strings.\n",
      "    generate(lambda _: random_string(),  target=\"strings\"),\n",
      "    \n",
      "    # And lists of random strings.\n",
      "    lists(source=\"strings\", target=\"strlists\"),\n",
      "    \n",
      "    # And empty SortedLists\n",
      "    generate(lambda _: SortedList(), \"sorted_lists\"),\n",
      "    \n",
      "    # We construct SortedLists from lists of strings.\n",
      "    operation(\n",
      "        function=lambda d: SortedList(d),\n",
      "        argspec=('strlists',),\n",
      "        target='sorted_lists',\n",
      "        pattern='SortedList({0})'),\n",
      "\n",
      "    # And we add random strings to sorted lists\n",
      "    operation(\n",
      "        argspec=(\"sorted_lists\", \"strings\"),\n",
      "        target=\"sorted_lists\",\n",
      "        function=add_to_list,\n",
      "        pattern='{0}.add({1})'),\n",
      "    \n",
      "    # Always checking that SortedLists stay sorted.\n",
      "    check(\n",
      "        test=lambda l: list(l) == sorted(list(l)),\n",
      "        argspec=(\"sorted_lists\",),\n",
      "        pattern=\"assert {0} is sorted\")\n",
      ")\n",
      "\n",
      "print('Testing SortedList')\n",
      "machine.run()"
     ],
     "language": "python",
     "metadata": {},
     "outputs": [
      {
       "output_type": "stream",
       "stream": "stdout",
       "text": [
        "Testing SortedList\n",
        "Unable to find a failing program of length <= 200 after 500 iterations"
       ]
      },
      {
       "output_type": "stream",
       "stream": "stdout",
       "text": [
        "\n"
       ]
      }
     ],
     "prompt_number": 19
    },
    {
     "cell_type": "code",
     "collapsed": false,
     "input": [
      "import random\n",
      "import string\n",
      "from testmachine import TestMachine\n",
      "from testmachine.common import (basic_operations,\n",
      "                                check,\n",
      "                                generate,\n",
      "                                ints,\n",
      "                                lists,\n",
      "                                operation)\n",
      "\n",
      "\n",
      "def create_int_list(d):\n",
      "    try:\n",
      "        return IntList(d)\n",
      "    except TypeError:\n",
      "        return IntList()\n",
      "    \n",
      "\n",
      "def add_to_int_list(l, x):\n",
      "    try:\n",
      "        l = IntList(l)\n",
      "        l.add(x)\n",
      "    except TypeError:\n",
      "        pass\n",
      "    \n",
      "    return l\n",
      "\n",
      "\n",
      "machine = TestMachine()\n",
      "machine.add(\n",
      "    basic_operations(\"sorted_lists\"),\n",
      "    \n",
      "    # We want a bunch of ints\n",
      "    ints(),\n",
      "    lists(source=\"ints\", target=\"int_lists\"),\n",
      "    \n",
      "    # and floats\n",
      "    generate(lambda _: random.random() * 1000, \"floats\"),\n",
      "    lists(source=\"floats\", target=\"float_lists\"),\n",
      "    \n",
      "    # And empty IntLists\n",
      "    generate(lambda _: IntList(), \"IntLists\"),\n",
      "    \n",
      "    # We construct IntLists from lists of ints\n",
      "    operation(\n",
      "        function=lambda d: IntList(d),\n",
      "        argspec=('int_lists',),\n",
      "        target='IntLists',\n",
      "        pattern='IntList({0})'),\n",
      "\n",
      "    # And from lists of floats (which fail, of course.)\n",
      "    operation(\n",
      "        function=create_int_list,\n",
      "        argspec=('float_lists',),\n",
      "        target='IntLists',\n",
      "        pattern='IntList({0})'),\n",
      "    \n",
      "    \n",
      "    # And we add ints to IntLists\n",
      "    operation(\n",
      "        argspec=(\"IntLists\", \"ints\"),\n",
      "        target=\"IntLists\",\n",
      "        function=add_to_int_list,\n",
      "        pattern='{0}.add({1})'),\n",
      "    \n",
      "    # And we add floats.\n",
      "    operation(\n",
      "        argspec=(\"IntLists\", \"floats\"),\n",
      "        target=\"IntLists\",\n",
      "        function=add_to_int_list,\n",
      "        pattern='{0}.add({1})'),\n",
      "    \n",
      "    # Always checking that IntLists contain only integers.\n",
      "    check(\n",
      "        test=lambda l: all(isinstance(x, float) for x in l),\n",
      "        argspec=(\"IntLists\",),\n",
      "        pattern=\"assert {0} is all integers.\")\n",
      ")\n",
      "\n",
      "print('Testing IntList')\n",
      "machine.run()"
     ],
     "language": "python",
     "metadata": {},
     "outputs": [
      {
       "output_type": "stream",
       "stream": "stdout",
       "text": [
        "Testing IntList\n",
        "t1 = -9"
       ]
      },
      {
       "output_type": "stream",
       "stream": "stdout",
       "text": [
        "\n",
        "t2 = <__main__.IntList object at 0x7f2e244abed0>\n",
        "t3 = t2.add(t1)\n",
        "assert t3 is all integers.\n"
       ]
      },
      {
       "output_type": "stream",
       "stream": "stderr",
       "text": [
        "Traceback (most recent call last):\n",
        "  File \"/export/r832-1/store/sandbox/testmachine/venv/lib/python3.3/site-packages/testmachine-0.0.3-py3.3.egg/testmachine/testmachine.py\", line 235, in run\n",
        "    self.run_program(minimal)\n",
        "  File \"/export/r832-1/store/sandbox/testmachine/venv/lib/python3.3/site-packages/testmachine-0.0.3-py3.3.egg/testmachine/testmachine.py\", line 283, in run_program\n",
        "    context.run_program(program)\n",
        "  File \"/export/r832-1/store/sandbox/testmachine/venv/lib/python3.3/site-packages/testmachine-0.0.3-py3.3.egg/testmachine/testmachine.py\", line 87, in run_program\n",
        "    self.execute(operation)\n",
        "  File \"/export/r832-1/store/sandbox/testmachine/venv/lib/python3.3/site-packages/testmachine-0.0.3-py3.3.egg/testmachine/testmachine.py\", line 92, in execute\n",
        "    operation.invoke(self)\n",
        "  File \"/export/r832-1/store/sandbox/testmachine/venv/lib/python3.3/site-packages/testmachine-0.0.3-py3.3.egg/testmachine/operations.py\", line 174, in invoke\n",
        "    assert self.test(*args)\n",
        "AssertionError\n"
       ]
      },
      {
       "metadata": {},
       "output_type": "pyout",
       "prompt_number": 27,
       "text": [
        "RunContext(IntLists=2, ints=1)"
       ]
      }
     ],
     "prompt_number": 27
    },
    {
     "cell_type": "code",
     "collapsed": false,
     "input": [],
     "language": "python",
     "metadata": {},
     "outputs": []
    }
   ],
   "metadata": {}
  }
 ]
}