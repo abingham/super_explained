{
 "metadata": {
  "name": ""
 },
 "nbformat": 3,
 "nbformat_minor": 0,
 "worksheets": [
  {
   "cells": [
    {
     "cell_type": "heading",
     "level": 1,
     "metadata": {},
     "source": [
      "All about super()"
     ]
    },
    {
     "cell_type": "markdown",
     "metadata": {},
     "source": [
      "Everyone knows that `super()` is used to defer to the base class. We all do this:"
     ]
    },
    {
     "cell_type": "code",
     "collapsed": false,
     "input": [
      "class Base:\n",
      "    def f(self):\n",
      "        print('Base.f')\n",
      "        \n",
      "class Sub(Base):\n",
      "    def f(self):\n",
      "        super().f()\n",
      "        print('Sub.f')\n",
      "        \n",
      "Sub().f()"
     ],
     "language": "python",
     "metadata": {},
     "outputs": [
      {
       "output_type": "stream",
       "stream": "stdout",
       "text": [
        "Base.f\n",
        "Sub.f\n"
       ]
      }
     ],
     "prompt_number": 8
    },
    {
     "cell_type": "markdown",
     "metadata": {},
     "source": [
      "But what is `super()` actually doing? Is it just returning some sort of reference to the base class object? The short answer is \"no\". The longer answer is \"sort of, but the answer is not that simple.\" In the end, the behavior of `super()` is a delightfully elegant aspect of Python classes that depends on the full inheritance graph in which a class is involved. Rather than imposing a rigid calling order where a class specifically defers to its base, `super()` allows classes to participate in dynamic, context-dependent call structures.\n",
      "\n",
      "The behavior of `super()` can be a bit surprising at first, but, as you'll discover, it's actually fairly simple and understandable. It also opens up some very interesting design opportunities, and really understanding it is one key to Python mastery.\n",
      "\n",
      "This tutorial will explore `super()`, with the goal of making sure you understand the mechanics of how it works. Along the way you'll learn about Python's *method resolution order*, the C3 algorithm, and Python's runtime representation of inheritance relationships. You'll also see some interesting and useful ways to leverage `super()` in ways that might never otherwise have occurred to you."
     ]
    },
    {
     "cell_type": "heading",
     "level": 1,
     "metadata": {},
     "source": [
      "First, a small mystery"
     ]
    },
    {
     "cell_type": "code",
     "collapsed": false,
     "input": [
      "class SimpleList:\n",
      "    def __init__(self, data=None):\n",
      "        if data is None:\n",
      "            data = []\n",
      "            \n",
      "        self.data = list(data)\n",
      "            \n",
      "    def add(self, x):\n",
      "        self.data.append(x)\n",
      "        \n",
      "    def __getitem__(self, idx):\n",
      "        return self.data[idx]\n",
      "    \n",
      "    def __len__(self):\n",
      "        return len(self.data)\n",
      "    \n",
      "    def sort(self):\n",
      "        self.data.sort()"
     ],
     "language": "python",
     "metadata": {},
     "outputs": [],
     "prompt_number": 9
    },
    {
     "cell_type": "code",
     "collapsed": false,
     "input": [
      "# TODO: tests for SimpleList"
     ],
     "language": "python",
     "metadata": {},
     "outputs": [],
     "prompt_number": 10
    },
    {
     "cell_type": "code",
     "collapsed": false,
     "input": [
      "class SortedList(SimpleList):\n",
      "    def __init__(self, data=None):\n",
      "        super().__init__(data)\n",
      "        self.sort()\n",
      "        \n",
      "    def add(self, x):\n",
      "        super().add(x)\n",
      "        self.sort()"
     ],
     "language": "python",
     "metadata": {},
     "outputs": [],
     "prompt_number": 11
    },
    {
     "cell_type": "code",
     "collapsed": false,
     "input": [
      "import unittest\n",
      "\n",
      "class SortedListTest(unittest.TestCase):\n",
      "    def test_empty_constructor(self):\n",
      "        s = SortedList()\n",
      "        self.assertEqual(len(s), 0)\n",
      "        \n",
      "    def test_constructor(self):\n",
      "        data = [5, 4, 3, 2, 1]\n",
      "        s = SortedList(data)\n",
      "        self.assertEqual(list(s), sorted(data))\n",
      "        \n",
      "    # TODO: Test add()\n",
      "        \n",
      "rslt = unittest.TestResult()\n",
      "suite = unittest.TestLoader().loadTestsFromTestCase(SortedListTest)\n",
      "unittest.TextTestRunner(verbosity=2).run(suite)"
     ],
     "language": "python",
     "metadata": {},
     "outputs": [
      {
       "output_type": "stream",
       "stream": "stderr",
       "text": [
        "test_constructor (__main__.SortedListTest) ... "
       ]
      },
      {
       "output_type": "stream",
       "stream": "stderr",
       "text": [
        "ok\n",
        "test_empty_constructor (__main__.SortedListTest) ... "
       ]
      },
      {
       "output_type": "stream",
       "stream": "stderr",
       "text": [
        "ok\n",
        "\n",
        "----------------------------------------------------------------------\n",
        "Ran 2 tests in 0.001s\n",
        "\n",
        "OK\n"
       ]
      },
      {
       "metadata": {},
       "output_type": "pyout",
       "prompt_number": 12,
       "text": [
        "<unittest.runner.TextTestResult run=2 errors=0 failures=0>"
       ]
      }
     ],
     "prompt_number": 12
    },
    {
     "cell_type": "code",
     "collapsed": false,
     "input": [
      "class IntList(SimpleList):\n",
      "    @staticmethod\n",
      "    def _validate(x):\n",
      "        if not isinstance(x, int):\n",
      "            raise TypeError('{} is not an instance of int.'.format(x))\n",
      "            \n",
      "    def __init__(self, data=None):\n",
      "        if data is not None:\n",
      "            # Create list here to avoid emptying a one-time iterable\n",
      "            data = list(data)\n",
      "            \n",
      "            for x in data:\n",
      "                IntList._validate(x)\n",
      "                \n",
      "        super().__init__(data)\n",
      "                \n",
      "    def add(self, x):\n",
      "        IntList._validate(x)\n",
      "        super().add(x)"
     ],
     "language": "python",
     "metadata": {},
     "outputs": [],
     "prompt_number": 13
    },
    {
     "cell_type": "code",
     "collapsed": false,
     "input": [
      "import unittest\n",
      "\n",
      "class IntListTest(unittest.TestCase):\n",
      "    def test_empty_constructor(self):\n",
      "        s = IntList()\n",
      "        self.assertEqual(len(s), 0)\n",
      "        \n",
      "    def test_constructor(self):\n",
      "        data = [5, 4, 3, 2, 1]\n",
      "        s = IntList(data)\n",
      "        self.assertEqual(list(s), data)\n",
      "        \n",
      "    def test_constructor_exception(self):\n",
      "        data = [1, 2, '3']\n",
      "        with self.assertRaises(TypeError):\n",
      "            IntList(data)\n",
      "            \n",
      "    # TODO: test add()\n",
      "        \n",
      "rslt = unittest.TestResult()\n",
      "suite = unittest.TestLoader().loadTestsFromTestCase(IntListTest)\n",
      "unittest.TextTestRunner(verbosity=2).run(suite)"
     ],
     "language": "python",
     "metadata": {},
     "outputs": [
      {
       "output_type": "stream",
       "stream": "stderr",
       "text": [
        "test_constructor (__main__.IntListTest) ... "
       ]
      },
      {
       "output_type": "stream",
       "stream": "stderr",
       "text": [
        "ok\n",
        "test_constructor_exception (__main__.IntListTest) ... "
       ]
      },
      {
       "output_type": "stream",
       "stream": "stderr",
       "text": [
        "ok\n",
        "test_empty_constructor (__main__.IntListTest) ... "
       ]
      },
      {
       "output_type": "stream",
       "stream": "stderr",
       "text": [
        "ok\n",
        "\n",
        "----------------------------------------------------------------------\n",
        "Ran 3 tests in 0.001s\n",
        "\n",
        "OK\n"
       ]
      },
      {
       "metadata": {},
       "output_type": "pyout",
       "prompt_number": 14,
       "text": [
        "<unittest.runner.TextTestResult run=3 errors=0 failures=0>"
       ]
      }
     ],
     "prompt_number": 14
    },
    {
     "cell_type": "code",
     "collapsed": false,
     "input": [
      "class SortedIntList(IntList, SortedList):\n",
      "    pass"
     ],
     "language": "python",
     "metadata": {},
     "outputs": [],
     "prompt_number": 15
    },
    {
     "cell_type": "code",
     "collapsed": false,
     "input": [
      "import unittest\n",
      "\n",
      "class SortedIntListTest(unittest.TestCase):\n",
      "    def test_empty_constructor(self):\n",
      "        s = SortedIntList()\n",
      "        self.assertEqual(len(s), 0)\n",
      "        \n",
      "    def test_constructor(self):\n",
      "        data = [5, 4, 3, 2, 1]\n",
      "        s = SortedIntList(data)\n",
      "        self.assertEqual(list(s), sorted(data))\n",
      "        \n",
      "    def test_constructor_exception(self):\n",
      "        data = ['3', 2, 1]\n",
      "        with self.assertRaises(TypeError):\n",
      "            SortedIntList(data)\n",
      "        \n",
      "rslt = unittest.TestResult()\n",
      "suite = unittest.TestLoader().loadTestsFromTestCase(SortedIntListTest)\n",
      "unittest.TextTestRunner(verbosity=2).run(suite)"
     ],
     "language": "python",
     "metadata": {},
     "outputs": [
      {
       "output_type": "stream",
       "stream": "stderr",
       "text": [
        "test_constructor (__main__.SortedIntListTest) ... "
       ]
      },
      {
       "output_type": "stream",
       "stream": "stderr",
       "text": [
        "ok\n",
        "test_constructor_exception (__main__.SortedIntListTest) ... "
       ]
      },
      {
       "output_type": "stream",
       "stream": "stderr",
       "text": [
        "ok\n",
        "test_empty_constructor (__main__.SortedIntListTest) ... "
       ]
      },
      {
       "output_type": "stream",
       "stream": "stderr",
       "text": [
        "ok\n",
        "\n",
        "----------------------------------------------------------------------\n",
        "Ran 3 tests in 0.001s\n",
        "\n",
        "OK\n"
       ]
      },
      {
       "metadata": {},
       "output_type": "pyout",
       "prompt_number": 17,
       "text": [
        "<unittest.runner.TextTestResult run=3 errors=0 failures=0>"
       ]
      }
     ],
     "prompt_number": 17
    },
    {
     "cell_type": "heading",
     "level": 1,
     "metadata": {},
     "source": [
      "Method Resolution Order"
     ]
    },
    {
     "cell_type": "heading",
     "level": 1,
     "metadata": {},
     "source": [
      "C3"
     ]
    },
    {
     "cell_type": "heading",
     "level": 1,
     "metadata": {},
     "source": [
      "`__bases__`"
     ]
    },
    {
     "cell_type": "heading",
     "level": 1,
     "metadata": {},
     "source": [
      "`super()` with arguments"
     ]
    }
   ],
   "metadata": {}
  }
 ]
}